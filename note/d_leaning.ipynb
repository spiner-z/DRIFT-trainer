{
 "cells": [
  {
   "cell_type": "markdown",
   "id": "a4bfe2cb",
   "metadata": {},
   "source": [
    "# Deep learning knowledge\n"
   ]
  },
  {
   "cell_type": "markdown",
   "id": "94e68178",
   "metadata": {},
   "source": [
    "## python"
   ]
  },
  {
   "cell_type": "markdown",
   "id": "af521b27",
   "metadata": {},
   "source": [
    "## numpy\n",
    "\n",
    "numpy 最核心的概念是数组（ndarray）\n",
    "\n",
    "1. 数组（ndarray）\n",
    "\n",
    "- 创建数组"
   ]
  },
  {
   "cell_type": "code",
   "execution_count": null,
   "id": "e4cf2574",
   "metadata": {},
   "outputs": [],
   "source": [
    "import numpy as np\n",
    "\n",
    "# 一维数组（形状(3,)）\n",
    "arr1 = np.array([1, 2, 3])\n",
    "print(arr1) # [1 2 3]\n",
    "print(arr1.shape) # (3,)\n",
    "print(arr1.ndim) # 1"
   ]
  },
  {
   "cell_type": "code",
   "execution_count": null,
   "id": "b223c1c9",
   "metadata": {},
   "outputs": [],
   "source": [
    "# 二维数组（形状(2,3)：2行3列）\n",
    "arr2 = np.array([[1, 2, 3], [4, 5, 6]])\n",
    "print(arr2)\n",
    "# [[1 2 3]\n",
    "#  [4 5 6]]\n",
    "print(arr2.shape)  # (2, 3)\n",
    "print(arr2.ndim)  # 2"
   ]
  },
  {
   "cell_type": "code",
   "execution_count": null,
   "id": "fb3d020f",
   "metadata": {},
   "outputs": [],
   "source": [
    "# 三维数组（形状(2,2,3)：2个2行3列的矩阵）\n",
    "arr3 = np.array([[[1, 2, 3], [4, 5, 6]], [[7, 8, 9], [10, 11, 12]]])\n",
    "print(arr3.shape)  # (2, 2, 3)\n",
    "print(arr3.ndim)  # 3"
   ]
  },
  {
   "cell_type": "markdown",
   "id": "1169a3be",
   "metadata": {},
   "source": [
    "- 特殊数组"
   ]
  },
  {
   "cell_type": "code",
   "execution_count": null,
   "id": "b1950714",
   "metadata": {},
   "outputs": [],
   "source": [
    "np.zeros((2, 3))  # 全0数组，形状(2,3)\n",
    "# [[0. 0. 0.]\n",
    "#  [0. 0. 0.]]\n",
    "\n",
    "np.ones((3,))    # 全1数组，形状(3,)\n",
    "# [1. 1. 1.]\n",
    "\n",
    "np.arange(5)     # 类似range，生成0-4的数组\n",
    "# [0 1 2 3 4]"
   ]
  },
  {
   "cell_type": "markdown",
   "id": "039c6561",
   "metadata": {},
   "source": [
    "2. 数组的基本操作\n",
    "\n",
    "- 索引与切片"
   ]
  },
  {
   "cell_type": "code",
   "execution_count": null,
   "id": "0e4f0b77",
   "metadata": {},
   "outputs": [],
   "source": [
    "arr = np.array([[1, 2, 3], [4, 5, 6], [7, 8, 9]])  # 形状(3,3)\n",
    "\n",
    "# 取第2行（索引从0开始）\n",
    "print(arr[1])  # [4 5 6]\n",
    "\n",
    "# 取第1行第2列的元素\n",
    "print(arr[0, 2])  # 3\n",
    "\n",
    "# 切片：取前2行，前2列\n",
    "print(arr[:2, :2])\n",
    "# [[1 2]\n",
    "#  [4 5]]"
   ]
  },
  {
   "cell_type": "markdown",
   "id": "8e6d3171",
   "metadata": {},
   "source": [
    "- 形状操作"
   ]
  },
  {
   "cell_type": "code",
   "execution_count": null,
   "id": "50f05b79",
   "metadata": {},
   "outputs": [],
   "source": [
    "arr = np.array([1, 2, 3, 4, 5, 6])  # 形状(6,)\n",
    "\n",
    "# 改变形状为(2,3)\n",
    "reshaped = arr.reshape(2, 3)\n",
    "print(reshaped)\n",
    "# [[1 2 3]\n",
    "#  [4 5 6]]\n",
    "print(reshaped.shape)  # (2, 3)"
   ]
  },
  {
   "cell_type": "markdown",
   "id": "5a202d76",
   "metadata": {},
   "source": [
    "- 数值运算"
   ]
  },
  {
   "cell_type": "code",
   "execution_count": null,
   "id": "f13152ea",
   "metadata": {},
   "outputs": [],
   "source": [
    "a = np.array([1, 2, 3])\n",
    "b = np.array([4, 5, 6])\n",
    "\n",
    "print(a + b)  # 对应元素相加：[5 7 9]\n",
    "print(a * 2)  # 每个元素乘2：[2 4 6]\n",
    "print(a.mean())  # 平均值：2.0\n",
    "print(b.sum())   # 求和：15"
   ]
  },
  {
   "cell_type": "markdown",
   "id": "35f9baa0",
   "metadata": {},
   "source": [
    "3. ndarray 属性"
   ]
  },
  {
   "cell_type": "markdown",
   "id": "c7f89a41",
   "metadata": {},
   "source": [
    "- dtype\n",
    "\n",
    "目标数据类型，可以是 NumPy 类型（如 np.int32、np.float64）、Python 内置类型（如 int、float）等"
   ]
  },
  {
   "cell_type": "code",
   "execution_count": null,
   "id": "1023fd61",
   "metadata": {},
   "outputs": [],
   "source": [
    "arr_int = np.array([1, 2, 3, 4])\n",
    "print(arr_int.dtype)  # int64（或int32，取决于系统）"
   ]
  },
  {
   "cell_type": "markdown",
   "id": "d9c63d6e",
   "metadata": {},
   "source": [
    "- astype\n",
    "\n",
    "用于将数组的数据类型转换为指定的类型，并返回一个新的数组（原数组不会被修改）。"
   ]
  },
  {
   "cell_type": "code",
   "execution_count": null,
   "id": "25205887",
   "metadata": {},
   "outputs": [],
   "source": [
    "arr_float = arr_int.astype(np.float64)\n",
    "print(arr_float)      # [1. 2. 3. 4.]\n",
    "print(arr_float.dtype)  # float64"
   ]
  },
  {
   "cell_type": "markdown",
   "id": "f215b3bb",
   "metadata": {},
   "source": [
    "## python"
   ]
  },
  {
   "cell_type": "markdown",
   "id": "8c5ef41d",
   "metadata": {},
   "source": [
    "- Optional\n",
    "\n",
    "Optional[T]，表示可以是指定类型 T，或者是 None"
   ]
  },
  {
   "cell_type": "code",
   "execution_count": null,
   "id": "37425aac",
   "metadata": {},
   "outputs": [],
   "source": [
    "from typing import Optional\n",
    "\n",
    "x: Optional[int] = 5\n",
    "print(x)  # 5\n",
    "x = None  # 合法\n",
    "print(x)  # None"
   ]
  },
  {
   "cell_type": "markdown",
   "id": "d533a6b0",
   "metadata": {},
   "source": [
    "- Callable\n",
    "\n",
    "指可调用对象，格式：Callable[[T1, T2, ...], R]。列表 [T1, T2, ...] 表示可调用对象的参数类型，R 表示可调用对象的返回值类型。"
   ]
  },
  {
   "cell_type": "code",
   "execution_count": null,
   "id": "9da5a234",
   "metadata": {},
   "outputs": [],
   "source": [
    "from typing import Callable\n",
    "\n",
    "# 定义一个“接受int和str，返回bool”的可调用对象类型\n",
    "func_type: Callable[[int, str], bool]\n",
    "\n",
    "def check(x: int, y: str) -> bool:\n",
    "    return x > 0 and len(y) > 0\n",
    "\n",
    "func_type = check  # 合法"
   ]
  }
 ],
 "metadata": {
  "language_info": {
   "name": "python"
  }
 },
 "nbformat": 4,
 "nbformat_minor": 5
}
